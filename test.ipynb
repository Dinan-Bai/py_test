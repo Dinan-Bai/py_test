{
 "cells": [
  {
   "cell_type": "code",
   "execution_count": 1,
   "metadata": {},
   "outputs": [
    {
     "name": "stdout",
     "output_type": "stream",
     "text": [
      "hello world\n"
     ]
    }
   ],
   "source": [
    "print('hello world')"
   ]
  },
  {
   "cell_type": "code",
   "execution_count": 41,
   "metadata": {},
   "outputs": [
    {
     "name": "stdout",
     "output_type": "stream",
     "text": [
      "Tiff Wang\n",
      "his name is: Tiff Wang\n",
      "hi\n"
     ]
    }
   ],
   "source": [
    "#string\n",
    "first_name = 'Tiff '\n",
    "last_name = 'Wang'\n",
    "name = first_name + last_name\n",
    "print(name)\n",
    "print('his name is: {0:s}'.format(name) )#格式化\n",
    "print('hi')"
   ]
  },
  {
   "cell_type": "code",
   "execution_count": 17,
   "metadata": {},
   "outputs": [
    {
     "name": "stdout",
     "output_type": "stream",
     "text": [
      "12\n"
     ]
    }
   ],
   "source": [
    "#int\n",
    "num_1 = 1\n",
    "num_2 = 2\n",
    "num_3 = str(num_1) + str(num_2)\n",
    "print(num_3)\n"
   ]
  },
  {
   "cell_type": "code",
   "execution_count": 25,
   "metadata": {},
   "outputs": [
    {
     "name": "stdout",
     "output_type": "stream",
     "text": [
      "1.0\n",
      "1\n"
     ]
    }
   ],
   "source": [
    "#float\n",
    "flt = 1.1\n",
    "flt = int(flt)\n",
    "flt = float(flt)\n",
    "print(flt)\n",
    "flt = 1.6\n",
    "print(str(round(int(flt))))"
   ]
  },
  {
   "cell_type": "code",
   "execution_count": 21,
   "metadata": {},
   "outputs": [
    {
     "name": "stdout",
     "output_type": "stream",
     "text": [
      "2\n"
     ]
    }
   ],
   "source": [
    "#operator: + - * /\n",
    "multiplier = 5//2\n",
    "print(multiplier)"
   ]
  },
  {
   "cell_type": "code",
   "execution_count": 38,
   "metadata": {},
   "outputs": [
    {
     "name": "stdout",
     "output_type": "stream",
     "text": [
      "[1, 2, 3, 4, 5, 6]\n",
      "[1, 2, 3, 4, 5, 6, 7, '8']\n",
      "[1, 2, 3, 4, 5, 6, 7, '8', ['apple', 'banana']]\n",
      "banana\n",
      "['apple', 'banana']\n",
      "[1, 2, 3, 4, 5, 6, 7, '8'] \n",
      " 8\n"
     ]
    }
   ],
   "source": [
    "#list\n",
    "Nums = [1,2,3,4,5,6]\n",
    "print(Nums)\n",
    "#stack\n",
    "Nums.append(7)\n",
    "Nums.append('8')\n",
    "print(Nums)\n",
    "Nums.append(['apple','banana'])\n",
    "print(Nums)\n",
    "banana = Nums[-1][1]\n",
    "print(banana)\n",
    "last = Nums.pop()\n",
    "print(last)\n",
    "Nums_size = len(Nums)\n",
    "\n",
    "print(Nums, '\\n', Nums_size)"
   ]
  },
  {
   "cell_type": "code",
   "execution_count": 51,
   "metadata": {},
   "outputs": [
    {
     "name": "stdout",
     "output_type": "stream",
     "text": [
      "1\n",
      "2\n",
      "4\n",
      "5\n",
      "6\n",
      "7\n",
      "8\n",
      "8\n"
     ]
    }
   ],
   "source": [
    "for i in Nums:\n",
    "    if i == 3:\n",
    "        Nums.remove(i+1)\n",
    "    print(i)\n",
    "print(i)"
   ]
  },
  {
   "cell_type": "code",
   "execution_count": 48,
   "metadata": {},
   "outputs": [
    {
     "name": "stdout",
     "output_type": "stream",
     "text": [
      "None\n"
     ]
    }
   ],
   "source": [
    "try:\n",
    "    pos = Nums.index(9)\n",
    "except ValueError:\n",
    "    pos = None\n",
    "print(pos)\n"
   ]
  },
  {
   "cell_type": "code",
   "execution_count": 56,
   "metadata": {},
   "outputs": [
    {
     "name": "stdout",
     "output_type": "stream",
     "text": [
      "[1, 2, 3, 4] \n",
      " [1, 2, 3]\n"
     ]
    }
   ],
   "source": [
    "import copy #deep copy\n",
    "List_1 = [1,2,3,4]\n",
    "List_2 = copy.copy(List_1)\n",
    "List_2.pop()\n",
    "print(List_1,'\\n',List_2)"
   ]
  },
  {
   "cell_type": "code",
   "execution_count": 58,
   "metadata": {},
   "outputs": [
    {
     "name": "stdout",
     "output_type": "stream",
     "text": [
      "smaller\n"
     ]
    }
   ],
   "source": [
    "a = 1\n",
    "b = 2\n",
    "if a==b:\n",
    "    print('equal')\n",
    "elif a > b:\n",
    "    print('larger')\n",
    "else:\n",
    "    print('smaller')\n"
   ]
  },
  {
   "cell_type": "code",
   "execution_count": 1,
   "metadata": {},
   "outputs": [
    {
     "ename": "TypeError",
     "evalue": "'tuple' object does not support item assignment",
     "output_type": "error",
     "traceback": [
      "\u001b[1;31m---------------------------------------------------------------------------\u001b[0m",
      "\u001b[1;31mTypeError\u001b[0m                                 Traceback (most recent call last)",
      "\u001b[1;32m<ipython-input-1-9eac2fe02610>\u001b[0m in \u001b[0;36m<module>\u001b[1;34m\u001b[0m\n\u001b[0;32m      2\u001b[0m \u001b[0mtemple\u001b[0m \u001b[1;33m=\u001b[0m \u001b[1;33m(\u001b[0m\u001b[1;36m1\u001b[0m\u001b[1;33m,\u001b[0m\u001b[1;36m2\u001b[0m\u001b[1;33m)\u001b[0m\u001b[1;33m\u001b[0m\u001b[1;33m\u001b[0m\u001b[0m\n\u001b[0;32m      3\u001b[0m \u001b[1;33m\u001b[0m\u001b[0m\n\u001b[1;32m----> 4\u001b[1;33m \u001b[0mtemple\u001b[0m\u001b[1;33m[\u001b[0m\u001b[1;36m1\u001b[0m\u001b[1;33m]\u001b[0m \u001b[1;33m=\u001b[0m \u001b[1;36m5\u001b[0m\u001b[1;33m\u001b[0m\u001b[1;33m\u001b[0m\u001b[0m\n\u001b[0m\u001b[0;32m      5\u001b[0m \u001b[0mprint\u001b[0m\u001b[1;33m(\u001b[0m\u001b[0mtemple\u001b[0m\u001b[1;33m)\u001b[0m\u001b[1;33m\u001b[0m\u001b[1;33m\u001b[0m\u001b[0m\n",
      "\u001b[1;31mTypeError\u001b[0m: 'tuple' object does not support item assignment"
     ]
    }
   ],
   "source": [
    "#元组\n",
    "temple = (1,2)\n",
    "\n",
    "temple[1] = 5\n",
    "print(temple)"
   ]
  },
  {
   "cell_type": "code",
   "execution_count": 2,
   "metadata": {},
   "outputs": [
    {
     "name": "stdout",
     "output_type": "stream",
     "text": [
      "<class 'dict'>\n"
     ]
    },
    {
     "data": {
      "text/plain": [
       "'A'"
      ]
     },
     "execution_count": 2,
     "metadata": {},
     "output_type": "execute_result"
    }
   ],
   "source": [
    "#字典 key: value\n",
    "dict_grade = {'Yihan_Wang': 'A', 'Tiff_Wang': 'A', 'Jiawei_Huang': 'F'}\n",
    "print(dict)\n",
    "dict_grade['Yihan_Wang']"
   ]
  },
  {
   "cell_type": "code",
   "execution_count": 4,
   "metadata": {},
   "outputs": [
    {
     "name": "stdout",
     "output_type": "stream",
     "text": [
      "Input Your Age:1;2;3;4\n",
      "['1', '2', '3', '4']\n"
     ]
    },
    {
     "data": {
      "text/plain": [
       "list"
      ]
     },
     "execution_count": 4,
     "metadata": {},
     "output_type": "execute_result"
    }
   ],
   "source": [
    "#input\n",
    "typein = input(\"Input Your Age:\").split(';')\n",
    "print(typein)\n",
    "type(typein)"
   ]
  },
  {
   "cell_type": "code",
   "execution_count": 11,
   "metadata": {},
   "outputs": [
    {
     "name": "stdout",
     "output_type": "stream",
     "text": [
      "3\n",
      "1\n"
     ]
    }
   ],
   "source": [
    "#self-defined function\n",
    "a = 2\n",
    "def add(num_1, num_2): #local arguements\n",
    "    global a\n",
    "    a = 1\n",
    "    return num_1 + num_2\n",
    "print(add(1,2))\n",
    "print(a)"
   ]
  },
  {
   "cell_type": "code",
   "execution_count": null,
   "metadata": {},
   "outputs": [],
   "source": []
  }
 ],
 "metadata": {
  "kernelspec": {
   "display_name": "Python 3",
   "language": "python",
   "name": "python3"
  },
  "language_info": {
   "codemirror_mode": {
    "name": "ipython",
    "version": 3
   },
   "file_extension": ".py",
   "mimetype": "text/x-python",
   "name": "python",
   "nbconvert_exporter": "python",
   "pygments_lexer": "ipython3",
   "version": "3.8.3"
  }
 },
 "nbformat": 4,
 "nbformat_minor": 4
}
